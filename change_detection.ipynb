{
 "cells": [
  {
   "cell_type": "code",
   "execution_count": 1,
   "metadata": {},
   "outputs": [
    {
     "data": {
      "application/vnd.jupyter.widget-view+json": {
       "model_id": "e3e60cee4c874d1695b688dff027f3eb",
       "version_major": 2,
       "version_minor": 0
      },
      "text/plain": [
       "Map(center=[0, 0], controls=(WidgetControl(options=['position', 'transparent_bg'], widget=SearchDataGUI(childr…"
      ]
     },
     "metadata": {},
     "output_type": "display_data"
    }
   ],
   "source": [
    "import ee\n",
    "import geemap\n",
    "\n",
    "# Initialize the Earth Engine\n",
    "ee.Authenticate()\n",
    "ee.Initialize(project='ee-raman')\n",
    "# Define region of interest (ROI)\n",
    "state = \"rajasthan\"\n",
    "district = \"bhilwara\"\n",
    "block = \"mandalgarh\"\n",
    "block_ = \"bhilwara_mandalgarh\"\n",
    "\n",
    "# List of assets\n",
    "L1_asset = [\n",
    "    ee.Image('projects/df-project-iit/assets/core-stack/'+state+'/'+district+'/'+block+'/'+block_+'_2017-07-01_2018-06-30_LULCmap_10m'), \n",
    "    ee.Image('projects/df-project-iit/assets/core-stack/'+state+'/'+district+'/'+block+'/'+block_+'_2018-07-01_2019-06-30_LULCmap_10m'), \n",
    "    ee.Image('projects/df-project-iit/assets/core-stack/'+state+'/'+district+'/'+block+'/'+block_+'_2019-07-01_2020-06-30_LULCmap_10m'), \n",
    "    ee.Image('projects/df-project-iit/assets/core-stack/'+state+'/'+district+'/'+block+'/'+block_+'_2020-07-01_2021-06-30_LULCmap_10m'), \n",
    "    ee.Image('projects/df-project-iit/assets/core-stack/'+state+'/'+district+'/'+block+'/'+block_+'_2021-07-01_2022-06-30_LULCmap_10m'), \n",
    "    ee.Image('projects/df-project-iit/assets/core-stack/'+state+'/'+district+'/'+block+'/'+block_+'_2022-07-01_2023-06-30_LULCmap_10m')\n",
    "]\n",
    "\n",
    "# Filter for the region of interest\n",
    "roi_boundary = ee.FeatureCollection('projects/df-project-iit/assets/core-stack/'+state+'/'+district+'/'+block+'/filtered_mws_'+block_+'_uid')\n",
    "\n",
    "# Remap values function\n",
    "def remap_values(image):\n",
    "    return image.remap([1, 2, 3, 4, 6, 7, 8, 9, 10, 11, 12], \n",
    "                       [1, 2, 2, 2, 3, 4, 3, 3, 3, 3, 4], \n",
    "                       0, 'predicted_label')\n",
    "\n",
    "L1_asset_remaped = [remap_values(asset) for asset in L1_asset]\n",
    "\n",
    "\n",
    "# Create image collections\n",
    "then = ee.ImageCollection(L1_asset_remaped[:3])\n",
    "now = ee.ImageCollection(L1_asset_remaped[3:])\n",
    "\n",
    "# Compute mode and clip\n",
    "then = then.mode().clip(roi_boundary.geometry())\n",
    "now = now.mode().clip(roi_boundary.geometry())\n",
    "\n",
    "# Compute transitions\n",
    "trans_bu_bu = then.eq(1).And(now.eq(1))\n",
    "trans_w_bu = then.eq(2).And(now.eq(1)).multiply(2)\n",
    "trans_tr_bu = then.eq(3).And(now.eq(1)).multiply(3)\n",
    "trans_b_bu = then.eq(4).And(now.eq(1)).multiply(4)\n",
    "\n",
    "# Create a zero image and add transitions\n",
    "change_bu = ee.Image.constant(0).clip(roi_boundary.geometry())\n",
    "change_bu = change_bu.add(trans_bu_bu).add(trans_w_bu).add(trans_tr_bu).add(trans_b_bu)\n",
    "\n",
    "colors = ['#000000', '#00ff00', '#ff0000', '#ffff00', '#808080']\n",
    "labels = ['Bg', 'Bu-Bu', 'Water-Bu', 'Tree/Farm-Bu', 'Barren/Shrub-Bu']\n",
    "\n",
    "# Visualization parameters\n",
    "VisParams = {\n",
    "    'min': 0,\n",
    "    'max': 4,\n",
    "    'palette': colors\n",
    "}\n",
    "\n",
    "# Map visualization\n",
    "Map = geemap.Map()\n",
    "Map.addLayer(change_bu, VisParams, 'Change')\n",
    "Map.centerObject(change_bu.geometry())\n",
    "\n",
    "# Add the legend\n",
    "legend = Map.add_legend(title=\"Classes\", colors=colors, labels=labels)\n",
    "\n",
    "# Display map\n",
    "Map\n"
   ]
  },
  {
   "cell_type": "code",
   "execution_count": 2,
   "metadata": {},
   "outputs": [
    {
     "data": {
      "text/html": [
       "\n",
       "            <style>\n",
       "                .geemap-dark {\n",
       "                    --jp-widgets-color: white;\n",
       "                    --jp-widgets-label-color: white;\n",
       "                    --jp-ui-font-color1: white;\n",
       "                    --jp-layout-color2: #454545;\n",
       "                    background-color: #383838;\n",
       "                }\n",
       "\n",
       "                .geemap-dark .jupyter-button {\n",
       "                    --jp-layout-color3: #383838;\n",
       "                }\n",
       "\n",
       "                .geemap-colab {\n",
       "                    background-color: var(--colab-primary-surface-color, white);\n",
       "                }\n",
       "\n",
       "                .geemap-colab .jupyter-button {\n",
       "                    --jp-layout-color3: var(--colab-primary-surface-color, white);\n",
       "                }\n",
       "            </style>\n",
       "            "
      ],
      "text/plain": [
       "<IPython.core.display.HTML object>"
      ]
     },
     "metadata": {},
     "output_type": "display_data"
    },
    {
     "data": {
      "application/vnd.jupyter.widget-view+json": {
       "model_id": "397a14f04c2142deb37e326142afec8b",
       "version_major": 2,
       "version_minor": 0
      },
      "text/plain": [
       "Map(center=[0, 0], controls=(WidgetControl(options=['position', 'transparent_bg'], widget=SearchDataGUI(childr…"
      ]
     },
     "metadata": {},
     "output_type": "display_data"
    }
   ],
   "source": [
    "# Degradation\n",
    "# Remap values function\n",
    "def remap_values(image):\n",
    "    return image.remap([1, 2, 3, 4, 6, 7, 8, 9, 10, 11, 12], \n",
    "                       [1, 2, 2, 2, 4, 5, 3, 3, 3, 3, 6], \n",
    "                       0, 'predicted_label')\n",
    "\n",
    "L1_asset_remaped = [remap_values(asset) for asset in L1_asset]\n",
    "\n",
    "\n",
    "# Create image collections\n",
    "then = ee.ImageCollection(L1_asset_remaped[:3])\n",
    "now = ee.ImageCollection(L1_asset_remaped[3:])\n",
    "\n",
    "# Compute mode and clip\n",
    "then = then.mode().clip(roi_boundary.geometry())\n",
    "now = now.mode().clip(roi_boundary.geometry())\n",
    "\n",
    "trans_f_f = then.eq(3).And(now.eq(3))\n",
    "trans_f_bu = then.eq(3).And(now.eq(1)).multiply(2)\n",
    "trans_f_Ba = then.eq(3).And(now.eq(5)).multiply(3)\n",
    "trans_f_sc = then.eq(3).And(now.eq(6)).multiply(4)\n",
    "\n",
    "# Create a zero image and add transitions\n",
    "change_deg = ee.Image.constant(0).clip(roi_boundary.geometry())\n",
    "change_deg = change_deg.add(trans_f_f).add(trans_f_bu).add(trans_f_Ba).add(trans_f_sc)\n",
    "\n",
    "colors = ['#000000', '#00ff00', '#ff0000', '#ffff00', '#808080']\n",
    "labels = ['Bg', 'Farm-Farm', 'Farm-Bu', 'Farm-Ba', 'Farm-Bu']\n",
    "\n",
    "# Visualization parameters\n",
    "VisParams = {\n",
    "    'min': 0,\n",
    "    'max': 4,\n",
    "    'palette': colors\n",
    "}\n",
    "\n",
    "# Map visualization\n",
    "Map = geemap.Map()\n",
    "Map.addLayer(change_deg, VisParams, 'Change')\n",
    "Map.centerObject(change_deg.geometry())\n",
    "\n",
    "# Add the legend\n",
    "legend = Map.add_legend(title=\"Classes\", colors=colors, labels=labels)\n",
    "\n",
    "# Display map\n",
    "Map"
   ]
  },
  {
   "cell_type": "code",
   "execution_count": 3,
   "metadata": {},
   "outputs": [
    {
     "data": {
      "text/html": [
       "\n",
       "            <style>\n",
       "                .geemap-dark {\n",
       "                    --jp-widgets-color: white;\n",
       "                    --jp-widgets-label-color: white;\n",
       "                    --jp-ui-font-color1: white;\n",
       "                    --jp-layout-color2: #454545;\n",
       "                    background-color: #383838;\n",
       "                }\n",
       "\n",
       "                .geemap-dark .jupyter-button {\n",
       "                    --jp-layout-color3: #383838;\n",
       "                }\n",
       "\n",
       "                .geemap-colab {\n",
       "                    background-color: var(--colab-primary-surface-color, white);\n",
       "                }\n",
       "\n",
       "                .geemap-colab .jupyter-button {\n",
       "                    --jp-layout-color3: var(--colab-primary-surface-color, white);\n",
       "                }\n",
       "            </style>\n",
       "            "
      ],
      "text/plain": [
       "<IPython.core.display.HTML object>"
      ]
     },
     "metadata": {},
     "output_type": "display_data"
    },
    {
     "data": {
      "application/vnd.jupyter.widget-view+json": {
       "model_id": "82c1b01c36a94d46948f25fdcdbf30c6",
       "version_major": 2,
       "version_minor": 0
      },
      "text/plain": [
       "Map(center=[0, 0], controls=(WidgetControl(options=['position', 'transparent_bg'], widget=SearchDataGUI(childr…"
      ]
     },
     "metadata": {},
     "output_type": "display_data"
    }
   ],
   "source": [
    "# Deforestation\n",
    "# Create an initial zero image\n",
    "zero_image2 = ee.Image.constant(0).clip(L1_asset[0].geometry())\n",
    "\n",
    "for i in range(1, 5):\n",
    "    before = L1_asset[i-1]\n",
    "    middle = L1_asset[i]\n",
    "    after = L1_asset[i+1]\n",
    "\n",
    "    cond1 = before.eq(12).And(after.eq(12)).And(middle.eq(6).Or(middle.eq(8)).Or(middle.eq(9)).Or(middle.eq(10)).Or(middle.eq(11)))\n",
    "    cond2 = before.eq(2).Or(before.eq(3)).Or(before.eq(4)).And(after.eq(2).Or(after.eq(3)).Or(after.eq(4))).And(middle.eq(6).Or(middle.eq(8)).Or(middle.eq(9)).Or(middle.eq(10)).Or(middle.eq(11)))\n",
    "    cond3 = before.eq(6).And(after.eq(6)).And(middle.eq(12))\n",
    "    cond4 = before.eq(8).Or(before.eq(9)).Or(before.eq(10)).Or(before.eq(11)).And(after.eq(8).Or(after.eq(9)).Or(after.eq(10)).Or(after.eq(11))).And(middle.eq(12))\n",
    "    cond5 = before.eq(8).Or(before.eq(9)).Or(before.eq(10)).Or(before.eq(11)).And(after.eq(8).Or(after.eq(9)).Or(after.eq(10)).Or(after.eq(11))).And(middle.eq(7))\n",
    "    cond6 = before.eq(6).And(after.eq(6)).And(middle.eq(8).Or(middle.eq(9)).Or(middle.eq(10)).Or(middle.eq(11)))\n",
    "    cond7 = before.eq(8).Or(before.eq(9)).Or(before.eq(10)).Or(before.eq(11)).And(after.eq(8).Or(after.eq(9)).Or(after.eq(10)).Or(after.eq(11))).And(middle.eq(6))\n",
    "    cond8 = before.eq(1).And(after.eq(1)).And(middle.eq(6))\n",
    "    cond9 = before.eq(6).And(after.eq(6)).And(middle.eq(1))\n",
    "    cond10 = before.eq(1).And(after.eq(1)).And(middle.eq(8).Or(middle.eq(9)).Or(middle.eq(10)).Or(middle.eq(11)))\n",
    "    cond11 = before.eq(7).And(after.eq(7)).And(middle.eq(6).Or(middle.eq(8)).Or(middle.eq(9)).Or(middle.eq(10)).Or(middle.eq(11)))\n",
    "\n",
    "    zero_image2 = zero_image2.add(cond1).add(cond2).add(cond3).add(cond4).add(cond5).add(cond6).add(cond7).add(cond8).add(cond9).add(cond10).add(cond11)\n",
    "import copy\n",
    "L1_asset_copy = copy.deepcopy(L1_asset)\n",
    "for i in range(1, 5):\n",
    "    before = L1_asset[i-1]\n",
    "    middle = L1_asset[i]\n",
    "    after = L1_asset[i+1]\n",
    "    \n",
    "    cond1 = before.eq(3).And(middle.neq(3)).And(after.eq(3)).And((zero_image2.eq(3).Or(zero_image2.eq(4))))\n",
    "    cond2 = before.neq(3).And(middle.eq(3)).And(after.neq(3)).And((zero_image2.eq(3).Or(zero_image2.eq(4))))\n",
    "    \n",
    "    middle = middle.where(cond1, 3)\n",
    "    middle = middle.where(cond2, before)\n",
    "    \n",
    "    L1_asset_copy[i] = middle\n",
    "\n",
    "# Remap values function\n",
    "def remap_values(image):\n",
    "    remapped = image.remap(\n",
    "        [1, 2, 3, 4, 6, 7, 8, 9, 10, 11, 12], \n",
    "        [1, 2, 2, 2, 3, 5, 4, 4, 4, 4, 6], \n",
    "        0, \n",
    "        'predicted_label'\n",
    "    )\n",
    "    return remapped\n",
    "\n",
    "L1_asset_remaped = [remap_values(asset) for asset in L1_asset_copy]\n",
    "\n",
    "\n",
    "# Create image collections\n",
    "then = ee.ImageCollection(L1_asset_remaped[:3])\n",
    "now = ee.ImageCollection(L1_asset_remaped[3:])\n",
    "\n",
    "# Compute mode and clip\n",
    "then = then.mode().clip(roi_boundary.geometry())\n",
    "now = now.mode().clip(roi_boundary.geometry())\n",
    "\n",
    "trans_fo_fo = then.eq(3).And(now.eq(3))\n",
    "trans_fo_bu = then.eq(3).And(now.eq(1)).multiply(2)\n",
    "trans_fo_fa = then.eq(3).And(now.eq(4)).multiply(3)\n",
    "trans_fo_ba = then.eq(3).And(now.eq(5)).multiply(4)\n",
    "trans_sc = then.eq(3).And(now.eq(6)).multiply(5)\n",
    "\n",
    "# Create a zero image and add transitions\n",
    "change_def = ee.Image.constant(0).clip(roi_boundary.geometry())\n",
    "change_def = change_def.add(trans_fo_fo).add(trans_fo_bu).add(trans_fo_fa).add(trans_fo_ba).add(trans_sc)\n",
    "\n",
    "colors = ['#000000', '#00ff00', '#ff0000', '#ffff00', '#808080', '#909990']\n",
    "labels = ['Bg', 'Forest-Forest', 'Forest-Builtup', 'Forest-Farm', 'Forest-Barren', 'Forest-Scrub']\n",
    "\n",
    "# Visualization parameters\n",
    "VisParams = {\n",
    "    'min': 0,\n",
    "    'max': 5,\n",
    "    'palette': colors\n",
    "}\n",
    "\n",
    "# Map visualization\n",
    "Map = geemap.Map()\n",
    "Map.addLayer(change_def, VisParams, 'Change')\n",
    "Map.centerObject(change_def.geometry())\n",
    "\n",
    "# Add the legend\n",
    "legend = Map.add_legend(title=\"Classes\", colors=colors, labels=labels)\n",
    "\n",
    "# Display map\n",
    "Map"
   ]
  },
  {
   "cell_type": "code",
   "execution_count": 4,
   "metadata": {},
   "outputs": [
    {
     "data": {
      "text/html": [
       "\n",
       "            <style>\n",
       "                .geemap-dark {\n",
       "                    --jp-widgets-color: white;\n",
       "                    --jp-widgets-label-color: white;\n",
       "                    --jp-ui-font-color1: white;\n",
       "                    --jp-layout-color2: #454545;\n",
       "                    background-color: #383838;\n",
       "                }\n",
       "\n",
       "                .geemap-dark .jupyter-button {\n",
       "                    --jp-layout-color3: #383838;\n",
       "                }\n",
       "\n",
       "                .geemap-colab {\n",
       "                    background-color: var(--colab-primary-surface-color, white);\n",
       "                }\n",
       "\n",
       "                .geemap-colab .jupyter-button {\n",
       "                    --jp-layout-color3: var(--colab-primary-surface-color, white);\n",
       "                }\n",
       "            </style>\n",
       "            "
      ],
      "text/plain": [
       "<IPython.core.display.HTML object>"
      ]
     },
     "metadata": {},
     "output_type": "display_data"
    },
    {
     "data": {
      "application/vnd.jupyter.widget-view+json": {
       "model_id": "220c0ea8b6a941b68d5f8685590b7331",
       "version_major": 2,
       "version_minor": 0
      },
      "text/plain": [
       "Map(center=[0, 0], controls=(WidgetControl(options=['position', 'transparent_bg'], widget=SearchDataGUI(childr…"
      ]
     },
     "metadata": {},
     "output_type": "display_data"
    }
   ],
   "source": [
    "#afforestation\n",
    "\n",
    "trans_fo_fo = then.eq(3).And(now.eq(3))\n",
    "trans_bu_fo = then.eq(1).And(now.eq(3)).multiply(2)\n",
    "trans_fa_fo = then.eq(4).And(now.eq(3)).multiply(3)\n",
    "trans_ba_fo = then.eq(5).And(now.eq(3)).multiply(4)\n",
    "trans_sc_fo = then.eq(6).And(now.eq(3)).multiply(5)\n",
    "\n",
    "# Create a zero image and add transitions\n",
    "change_af = ee.Image.constant(0).clip(roi_boundary.geometry())\n",
    "change_af = change_af.add(trans_fo_fo).add(trans_bu_fo).add(trans_fa_fo).add(trans_ba_fo).add(trans_sc_fo)\n",
    "\n",
    "colors = ['#000000', '#00ff00', '#ff0000', '#ffff00', '#808080', '#909990']\n",
    "labels = ['Bg', 'Forest-Forest', 'Builtup-Forest', 'Farm-Forest', 'Barren-Forest', 'Scrub-Forest']\n",
    "\n",
    "# Visualization parameters\n",
    "VisParams = {\n",
    "    'min': 0,\n",
    "    'max': 5,\n",
    "    'palette': colors\n",
    "}\n",
    "\n",
    "# Map visualization\n",
    "Map = geemap.Map()\n",
    "Map.addLayer(change_af, VisParams, 'Change')\n",
    "Map.centerObject(change_af.geometry())\n",
    "\n",
    "# Add the legend\n",
    "legend = Map.add_legend(title=\"Classes\", colors=colors, labels=labels)\n",
    "\n",
    "# Display map\n",
    "Map"
   ]
  },
  {
   "cell_type": "code",
   "execution_count": 5,
   "metadata": {},
   "outputs": [
    {
     "data": {
      "text/html": [
       "\n",
       "            <style>\n",
       "                .geemap-dark {\n",
       "                    --jp-widgets-color: white;\n",
       "                    --jp-widgets-label-color: white;\n",
       "                    --jp-ui-font-color1: white;\n",
       "                    --jp-layout-color2: #454545;\n",
       "                    background-color: #383838;\n",
       "                }\n",
       "\n",
       "                .geemap-dark .jupyter-button {\n",
       "                    --jp-layout-color3: #383838;\n",
       "                }\n",
       "\n",
       "                .geemap-colab {\n",
       "                    background-color: var(--colab-primary-surface-color, white);\n",
       "                }\n",
       "\n",
       "                .geemap-colab .jupyter-button {\n",
       "                    --jp-layout-color3: var(--colab-primary-surface-color, white);\n",
       "                }\n",
       "            </style>\n",
       "            "
      ],
      "text/plain": [
       "<IPython.core.display.HTML object>"
      ]
     },
     "metadata": {},
     "output_type": "display_data"
    },
    {
     "data": {
      "application/vnd.jupyter.widget-view+json": {
       "model_id": "9dae0a46c8844d13b73c5d367081f7f5",
       "version_major": 2,
       "version_minor": 0
      },
      "text/plain": [
       "Map(center=[0, 0], controls=(WidgetControl(options=['position', 'transparent_bg'], widget=SearchDataGUI(childr…"
      ]
     },
     "metadata": {},
     "output_type": "display_data"
    }
   ],
   "source": [
    "# Cropping intensity\n",
    "# Remap values function\n",
    "def remap_values(image):\n",
    "    return image.remap([1, 2, 3, 4, 6, 7, 8, 9, 10, 11, 12], \n",
    "                       [1, 2, 2, 2, 3, 4, 5, 5, 6,  7,  8], \n",
    "                       0, 'predicted_label')\n",
    "\n",
    "L1_asset_remaped = [remap_values(asset) for asset in L1_asset]\n",
    "\n",
    "\n",
    "# Create image collections\n",
    "then = ee.ImageCollection(L1_asset_remaped[:3])\n",
    "now = ee.ImageCollection(L1_asset_remaped[3:])\n",
    "\n",
    "# Compute mode and clip\n",
    "then = then.mode().clip(roi_boundary.geometry())\n",
    "now = now.mode().clip(roi_boundary.geometry())\n",
    "\n",
    "trans_do_si = then.eq(6).And(now.eq(5))\n",
    "trans_tr_si = then.eq(7).And(now.eq(5)).multiply(2)\n",
    "trans_tr_do = then.eq(7).And(now.eq(6)).multiply(3)\n",
    "trans_si_do = then.eq(5).And(now.eq(6)).multiply(4)\n",
    "trans_si_tr = then.eq(5).And(now.eq(7)).multiply(5)\n",
    "trans_do_tr = then.eq(6).And(now.eq(7)).multiply(6)\n",
    "trans_same = (then.eq(5).And(now.eq(5))).Or(then.eq(6).And(now.eq(6))).Or(then.eq(7).And(now.eq(7))).multiply(7)\n",
    "\n",
    "# Create a zero image and add transitions\n",
    "change_far = ee.Image.constant(0).clip(roi_boundary.geometry())\n",
    "change_far = change_far.add(trans_do_si).add(trans_tr_si).add(trans_tr_do).add(trans_si_do).add(trans_si_tr).add(trans_do_tr).add(trans_same)\n",
    "\n",
    "colors = ['#000000', '#00ff00', '#ff0000', '#ffff00', '#808080', '#025669', '#75151E', '#84c3be' ]\n",
    "labels = ['Bg', 'Double-Single', 'Triple-Single', 'Triple-Double', 'Single-Double', 'Single-Triple', 'Double-Triple', 'As-it-is']\n",
    "\n",
    "# Visualization parameters\n",
    "VisParams = {\n",
    "    'min': 0,\n",
    "    'max': 4,\n",
    "    'palette': colors\n",
    "}\n",
    "\n",
    "palette = [\n",
    "    '000000', '000000', '000000', '000000', '000000', 'f75cff', \n",
    "    '991695', 'e6ab2c', '3bef34', '2baa25', 'e6ef34', 'a1a524', 'eea15e'\n",
    "]\n",
    "\n",
    "\n",
    "vis_params = {\n",
    "    'min': 0,\n",
    "    'max': 12,\n",
    "    'palette': palette\n",
    "}\n",
    "# Map visualization\n",
    "Map = geemap.Map()\n",
    "url = 'https://mt1.google.com/vt/lyrs=s&x={x}&y={y}&z={z}'\n",
    "Map.layout.height = '1000px'\n",
    "Map.add_tile_layer(url, name=\"Google Map\", attribution=\"Google\")\n",
    "Map.addLayer(change_far, VisParams, 'Change')\n",
    "\n",
    "Map.addLayer(L1_asset[0], vis_params, 'LULC')\n",
    "#Map.addLayer(L1_asset[0], )\n",
    "Map.centerObject(change_far.geometry())\n",
    "\n",
    "# Add the legend\n",
    "legend = Map.add_legend(title=\"Classes\", colors=colors, labels=labels)\n",
    "\n",
    "# Display map\n",
    "Map"
   ]
  },
  {
   "cell_type": "code",
   "execution_count": 6,
   "metadata": {},
   "outputs": [
    {
     "data": {
      "text/html": [
       "\n",
       "            <style>\n",
       "                .geemap-dark {\n",
       "                    --jp-widgets-color: white;\n",
       "                    --jp-widgets-label-color: white;\n",
       "                    --jp-ui-font-color1: white;\n",
       "                    --jp-layout-color2: #454545;\n",
       "                    background-color: #383838;\n",
       "                }\n",
       "\n",
       "                .geemap-dark .jupyter-button {\n",
       "                    --jp-layout-color3: #383838;\n",
       "                }\n",
       "\n",
       "                .geemap-colab {\n",
       "                    background-color: var(--colab-primary-surface-color, white);\n",
       "                }\n",
       "\n",
       "                .geemap-colab .jupyter-button {\n",
       "                    --jp-layout-color3: var(--colab-primary-surface-color, white);\n",
       "                }\n",
       "            </style>\n",
       "            "
      ],
      "text/plain": [
       "<IPython.core.display.HTML object>"
      ]
     },
     "metadata": {},
     "output_type": "display_data"
    }
   ],
   "source": [
    "change_asset = [change_bu, change_deg, change_def, change_af, change_far][4:]"
   ]
  },
  {
   "cell_type": "code",
   "execution_count": 7,
   "metadata": {},
   "outputs": [
    {
     "data": {
      "text/html": [
       "\n",
       "            <style>\n",
       "                .geemap-dark {\n",
       "                    --jp-widgets-color: white;\n",
       "                    --jp-widgets-label-color: white;\n",
       "                    --jp-ui-font-color1: white;\n",
       "                    --jp-layout-color2: #454545;\n",
       "                    background-color: #383838;\n",
       "                }\n",
       "\n",
       "                .geemap-dark .jupyter-button {\n",
       "                    --jp-layout-color3: #383838;\n",
       "                }\n",
       "\n",
       "                .geemap-colab {\n",
       "                    background-color: var(--colab-primary-surface-color, white);\n",
       "                }\n",
       "\n",
       "                .geemap-colab .jupyter-button {\n",
       "                    --jp-layout-color3: var(--colab-primary-surface-color, white);\n",
       "                }\n",
       "            </style>\n",
       "            "
      ],
      "text/plain": [
       "<IPython.core.display.HTML object>"
      ]
     },
     "metadata": {},
     "output_type": "display_data"
    },
    {
     "data": {
      "text/plain": [
       "[<ee.image.Image at 0x7fb1caa11d90>]"
      ]
     },
     "execution_count": 7,
     "metadata": {},
     "output_type": "execute_result"
    }
   ],
   "source": [
    "change_asset"
   ]
  },
  {
   "cell_type": "code",
   "execution_count": 8,
   "metadata": {},
   "outputs": [
    {
     "data": {
      "text/html": [
       "\n",
       "            <style>\n",
       "                .geemap-dark {\n",
       "                    --jp-widgets-color: white;\n",
       "                    --jp-widgets-label-color: white;\n",
       "                    --jp-ui-font-color1: white;\n",
       "                    --jp-layout-color2: #454545;\n",
       "                    background-color: #383838;\n",
       "                }\n",
       "\n",
       "                .geemap-dark .jupyter-button {\n",
       "                    --jp-layout-color3: #383838;\n",
       "                }\n",
       "\n",
       "                .geemap-colab {\n",
       "                    background-color: var(--colab-primary-surface-color, white);\n",
       "                }\n",
       "\n",
       "                .geemap-colab .jupyter-button {\n",
       "                    --jp-layout-color3: var(--colab-primary-surface-color, white);\n",
       "                }\n",
       "            </style>\n",
       "            "
      ],
      "text/plain": [
       "<IPython.core.display.HTML object>"
      ]
     },
     "metadata": {},
     "output_type": "display_data"
    }
   ],
   "source": [
    "for index, change in enumerate([\"Urbanization\", \"Degradation\", \"Deforestation\", \"Afforestation\", \"CropIntensity\"][4:]):\n",
    "    task = ee.batch.Export.image.toAsset(\n",
    "        image=change_asset[index],\n",
    "        description= block_+'_' + change,\n",
    "        assetId='projects/ee-raman/assets/change/'+block_+\"_\"+change,\n",
    "        pyramidingPolicy = {'predicted_label': 'mode'},\n",
    "        scale = 10,\n",
    "        maxPixels = 1e13,\n",
    "        crs = 'EPSG:4326'\n",
    "    )\n",
    "    task.start()\n"
   ]
  },
  {
   "cell_type": "code",
   "execution_count": null,
   "metadata": {},
   "outputs": [],
   "source": []
  },
  {
   "cell_type": "code",
   "execution_count": null,
   "metadata": {},
   "outputs": [],
   "source": []
  },
  {
   "cell_type": "code",
   "execution_count": null,
   "metadata": {},
   "outputs": [],
   "source": []
  }
 ],
 "metadata": {
  "kernelspec": {
   "display_name": "base",
   "language": "python",
   "name": "python3"
  },
  "language_info": {
   "codemirror_mode": {
    "name": "ipython",
    "version": 3
   },
   "file_extension": ".py",
   "mimetype": "text/x-python",
   "name": "python",
   "nbconvert_exporter": "python",
   "pygments_lexer": "ipython3",
   "version": "3.12.4"
  }
 },
 "nbformat": 4,
 "nbformat_minor": 2
}
